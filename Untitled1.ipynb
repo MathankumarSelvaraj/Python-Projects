{
 "cells": [
  {
   "cell_type": "code",
   "execution_count": 1,
   "id": "db6bd7cc",
   "metadata": {},
   "outputs": [],
   "source": [
    "a=[5,7,3,8,9,8]"
   ]
  },
  {
   "cell_type": "code",
   "execution_count": 2,
   "id": "c58e9b43",
   "metadata": {},
   "outputs": [],
   "source": [
    "k=4"
   ]
  },
  {
   "cell_type": "code",
   "execution_count": 12,
   "id": "66408e68",
   "metadata": {},
   "outputs": [
    {
     "data": {
      "text/plain": [
       "7"
      ]
     },
     "execution_count": 12,
     "metadata": {},
     "output_type": "execute_result"
    }
   ],
   "source": [
    "sorted(a)[-k]"
   ]
  },
  {
   "cell_type": "code",
   "execution_count": 13,
   "id": "d45c4e0d",
   "metadata": {},
   "outputs": [
    {
     "data": {
      "text/plain": [
       "[3, 5, 7, 8, 8, 9]"
      ]
     },
     "execution_count": 13,
     "metadata": {},
     "output_type": "execute_result"
    }
   ],
   "source": [
    "sorted(a)"
   ]
  },
  {
   "cell_type": "code",
   "execution_count": 14,
   "id": "44a8de98",
   "metadata": {},
   "outputs": [],
   "source": [
    "a=14\n",
    "b=12"
   ]
  },
  {
   "cell_type": "code",
   "execution_count": 16,
   "id": "aba8feca",
   "metadata": {},
   "outputs": [],
   "source": [
    "c= [x for x in range(1,a) if a%x==0 ]"
   ]
  },
  {
   "cell_type": "code",
   "execution_count": 17,
   "id": "32c03596",
   "metadata": {},
   "outputs": [
    {
     "data": {
      "text/plain": [
       "[1, 2, 7]"
      ]
     },
     "execution_count": 17,
     "metadata": {},
     "output_type": "execute_result"
    }
   ],
   "source": [
    "c"
   ]
  },
  {
   "cell_type": "code",
   "execution_count": 20,
   "id": "dd3511b6",
   "metadata": {},
   "outputs": [],
   "source": [
    "d=[x for x in range(1,b) if b%x==0 ]"
   ]
  },
  {
   "cell_type": "code",
   "execution_count": 21,
   "id": "64c820e3",
   "metadata": {},
   "outputs": [
    {
     "data": {
      "text/plain": [
       "[1, 2, 3, 4, 6]"
      ]
     },
     "execution_count": 21,
     "metadata": {},
     "output_type": "execute_result"
    }
   ],
   "source": [
    "d"
   ]
  },
  {
   "cell_type": "code",
   "execution_count": 27,
   "id": "a2d221ae",
   "metadata": {},
   "outputs": [],
   "source": [
    "e=set(c).intersection(set(d))"
   ]
  },
  {
   "cell_type": "code",
   "execution_count": 28,
   "id": "6af67df5",
   "metadata": {},
   "outputs": [
    {
     "data": {
      "text/plain": [
       "{1, 2}"
      ]
     },
     "execution_count": 28,
     "metadata": {},
     "output_type": "execute_result"
    }
   ],
   "source": [
    "e"
   ]
  },
  {
   "cell_type": "code",
   "execution_count": 40,
   "id": "791a2a8a",
   "metadata": {},
   "outputs": [],
   "source": [
    "a=28"
   ]
  },
  {
   "cell_type": "code",
   "execution_count": 41,
   "id": "715cb7c4",
   "metadata": {},
   "outputs": [],
   "source": [
    "div = [i for i in range(1,a) if a%i==0]"
   ]
  },
  {
   "cell_type": "code",
   "execution_count": 42,
   "id": "e4c1d8a9",
   "metadata": {},
   "outputs": [
    {
     "name": "stdout",
     "output_type": "stream",
     "text": [
      "perfectnumber\n"
     ]
    }
   ],
   "source": [
    "if sum(div) == a:\n",
    "    print(\"perfectnumber\")\n",
    "else:\n",
    "    print(\"notperfect\")"
   ]
  },
  {
   "cell_type": "code",
   "execution_count": null,
   "id": "aad37408",
   "metadata": {},
   "outputs": [],
   "source": [
    "6\n"
   ]
  },
  {
   "cell_type": "code",
   "execution_count": null,
   "id": "c8b704a9",
   "metadata": {},
   "outputs": [],
   "source": [
    "1,2,3"
   ]
  },
  {
   "cell_type": "code",
   "execution_count": 45,
   "id": "bc223cbe",
   "metadata": {},
   "outputs": [
    {
     "name": "stdout",
     "output_type": "stream",
     "text": [
      "[5, 9, 13, 17, 21, 25, 29, 33, 37, 41]\n"
     ]
    }
   ],
   "source": [
    "a=1\n",
    "d=4\n",
    "k=10\n",
    "v=[]\n",
    "i=1\n",
    "while i<=k:\n",
    "    v.append(a+(i*d))\n",
    "    i=i+1\n",
    "print(v)\n",
    "\n"
   ]
  },
  {
   "cell_type": "code",
   "execution_count": null,
   "id": "a93f3016",
   "metadata": {},
   "outputs": [],
   "source": []
  },
  {
   "cell_type": "code",
   "execution_count": null,
   "id": "050a3b5e",
   "metadata": {},
   "outputs": [],
   "source": []
  },
  {
   "cell_type": "code",
   "execution_count": null,
   "id": "6f5a3edc",
   "metadata": {},
   "outputs": [],
   "source": []
  },
  {
   "cell_type": "code",
   "execution_count": null,
   "id": "fea5dd3a",
   "metadata": {},
   "outputs": [],
   "source": []
  }
 ],
 "metadata": {
  "kernelspec": {
   "display_name": "Python 3",
   "language": "python",
   "name": "python3"
  },
  "language_info": {
   "codemirror_mode": {
    "name": "ipython",
    "version": 3
   },
   "file_extension": ".py",
   "mimetype": "text/x-python",
   "name": "python",
   "nbconvert_exporter": "python",
   "pygments_lexer": "ipython3",
   "version": "3.8.8"
  }
 },
 "nbformat": 4,
 "nbformat_minor": 5
}
